{
 "cells": [
  {
   "cell_type": "markdown",
   "metadata": {},
   "source": [
    "# Project 2\n",
    "\n",
    "<bk>\n",
    "    Dieter Brehm and Corinne Wilklow"
   ]
  },
  {
   "cell_type": "code",
   "execution_count": 14,
   "metadata": {},
   "outputs": [],
   "source": [
    "# Configure Jupyter so figures appear in the notebook\n",
    "%matplotlib inline\n",
    "\n",
    "# Configure Jupyter to display the assigned value after an assignment\n",
    "%config InteractiveShell.ast_node_interactivity='last_expr_or_assign'\n",
    "\n",
    "# import functions from the modsim.py module\n",
    "from modsim import *"
   ]
  },
  {
   "cell_type": "code",
   "execution_count": 15,
   "metadata": {},
   "outputs": [
    {
     "data": {
      "text/html": [
       "hour"
      ],
      "text/latex": [
       "$hour$"
      ],
      "text/plain": [
       "<Unit('hour')>"
      ]
     },
     "execution_count": 15,
     "metadata": {},
     "output_type": "execute_result"
    }
   ],
   "source": [
    "m = UNITS.meter\n",
    "ft =  UNITS.foot\n",
    "inch = UNITS.inch\n",
    "\n",
    "\n",
    "W = UNITS.watt\n",
    "\n",
    "J = UNITS.joule\n",
    "btu = UNITS.btu\n",
    "\n",
    "degC = UNITS.celsius\n",
    "K = UNITS.kelvin\n",
    "degF = UNITS.fahrenheit \n",
    "\n",
    "hr = UNITS.hour"
   ]
  },
  {
   "cell_type": "code",
   "execution_count": 36,
   "metadata": {},
   "outputs": [
    {
     "data": {
      "text/html": [
       "<div>\n",
       "<style scoped>\n",
       "    .dataframe tbody tr th:only-of-type {\n",
       "        vertical-align: middle;\n",
       "    }\n",
       "\n",
       "    .dataframe tbody tr th {\n",
       "        vertical-align: top;\n",
       "    }\n",
       "\n",
       "    .dataframe thead th {\n",
       "        text-align: right;\n",
       "    }\n",
       "</style>\n",
       "<table border=\"1\" class=\"dataframe\">\n",
       "  <thead>\n",
       "    <tr style=\"text-align: right;\">\n",
       "      <th></th>\n",
       "    </tr>\n",
       "    <tr>\n",
       "      <th>R</th>\n",
       "    </tr>\n",
       "  </thead>\n",
       "  <tbody>\n",
       "    <tr>\n",
       "      <th>5.00</th>\n",
       "    </tr>\n",
       "    <tr>\n",
       "      <th>3.85</th>\n",
       "    </tr>\n",
       "    <tr>\n",
       "      <th>6.50</th>\n",
       "    </tr>\n",
       "    <tr>\n",
       "      <th>5.00</th>\n",
       "    </tr>\n",
       "    <tr>\n",
       "      <th>4.00</th>\n",
       "    </tr>\n",
       "    <tr>\n",
       "      <th>0.20</th>\n",
       "    </tr>\n",
       "    <tr>\n",
       "      <th>1.25</th>\n",
       "    </tr>\n",
       "    <tr>\n",
       "      <th>4.29</th>\n",
       "    </tr>\n",
       "    <tr>\n",
       "      <th>3.71</th>\n",
       "    </tr>\n",
       "    <tr>\n",
       "      <th>4.13</th>\n",
       "    </tr>\n",
       "  </tbody>\n",
       "</table>\n",
       "</div>"
      ],
      "text/plain": [
       "Empty DataFrame\n",
       "Columns: []\n",
       "Index: [5.0, 3.85, 6.5, 5.0, 4.0, 0.2, 1.25, 4.29, 3.71, 4.13]"
      ]
     },
     "execution_count": 36,
     "metadata": {},
     "output_type": "execute_result"
    }
   ],
   "source": [
    "R_data = pd.read_csv('Rvalues.csv', header=0, index_col=0, usecols=range(1,2))"
   ]
  },
  {
   "cell_type": "code",
   "execution_count": 37,
   "metadata": {},
   "outputs": [
    {
     "data": {
      "text/html": [
       "<div>\n",
       "<style scoped>\n",
       "    .dataframe tbody tr th:only-of-type {\n",
       "        vertical-align: middle;\n",
       "    }\n",
       "\n",
       "    .dataframe tbody tr th {\n",
       "        vertical-align: top;\n",
       "    }\n",
       "\n",
       "    .dataframe thead th {\n",
       "        text-align: right;\n",
       "    }\n",
       "</style>\n",
       "<table border=\"1\" class=\"dataframe\">\n",
       "  <thead>\n",
       "    <tr style=\"text-align: right;\">\n",
       "      <th></th>\n",
       "      <th>Q_in</th>\n",
       "      <th>Q_out</th>\n",
       "      <th>T_int</th>\n",
       "      <th>T_ext</th>\n",
       "    </tr>\n",
       "  </thead>\n",
       "  <tbody>\n",
       "    <tr>\n",
       "      <th>2014-10-05 16:30:00</th>\n",
       "      <td>10.994</td>\n",
       "      <td>6.840</td>\n",
       "      <td>16.92</td>\n",
       "      <td>14.68</td>\n",
       "    </tr>\n",
       "    <tr>\n",
       "      <th>2014-10-05 16:35:00</th>\n",
       "      <td>10.952</td>\n",
       "      <td>6.012</td>\n",
       "      <td>16.92</td>\n",
       "      <td>14.69</td>\n",
       "    </tr>\n",
       "    <tr>\n",
       "      <th>2014-10-05 16:40:00</th>\n",
       "      <td>10.882</td>\n",
       "      <td>7.040</td>\n",
       "      <td>16.93</td>\n",
       "      <td>14.66</td>\n",
       "    </tr>\n",
       "    <tr>\n",
       "      <th>2014-10-05 16:45:00</th>\n",
       "      <td>10.798</td>\n",
       "      <td>8.880</td>\n",
       "      <td>16.93</td>\n",
       "      <td>14.59</td>\n",
       "    </tr>\n",
       "    <tr>\n",
       "      <th>2014-10-05 16:50:00</th>\n",
       "      <td>10.756</td>\n",
       "      <td>10.491</td>\n",
       "      <td>16.94</td>\n",
       "      <td>14.50</td>\n",
       "    </tr>\n",
       "  </tbody>\n",
       "</table>\n",
       "</div>"
      ],
      "text/plain": [
       "                       Q_in   Q_out  T_int  T_ext\n",
       "2014-10-05 16:30:00  10.994   6.840  16.92  14.68\n",
       "2014-10-05 16:35:00  10.952   6.012  16.92  14.69\n",
       "2014-10-05 16:40:00  10.882   7.040  16.93  14.66\n",
       "2014-10-05 16:45:00  10.798   8.880  16.93  14.59\n",
       "2014-10-05 16:50:00  10.756  10.491  16.94  14.50"
      ]
     },
     "execution_count": 37,
     "metadata": {},
     "output_type": "execute_result"
    }
   ],
   "source": [
    "ext_data = pd.read_csv('DataOWall.csv', parse_dates=[0], index_col=0, header=0, skiprows=[1,2])\n",
    "ext_data.head()"
   ]
  },
  {
   "cell_type": "markdown",
   "metadata": {},
   "source": [
    "Convert Index entries to seconds, noticing the spacing between recordings"
   ]
  },
  {
   "cell_type": "code",
   "execution_count": 38,
   "metadata": {},
   "outputs": [],
   "source": [
    "timestamp_0 = get_first_label(ext_data)\n",
    "time_deltas = ext_data.index - timestamp_0;"
   ]
  },
  {
   "cell_type": "code",
   "execution_count": 39,
   "metadata": {},
   "outputs": [
    {
     "data": {
      "text/html": [
       "<div>\n",
       "<style scoped>\n",
       "    .dataframe tbody tr th:only-of-type {\n",
       "        vertical-align: middle;\n",
       "    }\n",
       "\n",
       "    .dataframe tbody tr th {\n",
       "        vertical-align: top;\n",
       "    }\n",
       "\n",
       "    .dataframe thead th {\n",
       "        text-align: right;\n",
       "    }\n",
       "</style>\n",
       "<table border=\"1\" class=\"dataframe\">\n",
       "  <thead>\n",
       "    <tr style=\"text-align: right;\">\n",
       "      <th></th>\n",
       "      <th>Q_in</th>\n",
       "      <th>Q_out</th>\n",
       "      <th>T_int</th>\n",
       "      <th>T_ext</th>\n",
       "    </tr>\n",
       "  </thead>\n",
       "  <tbody>\n",
       "    <tr>\n",
       "      <th>0</th>\n",
       "      <td>10.994</td>\n",
       "      <td>6.840</td>\n",
       "      <td>16.92</td>\n",
       "      <td>14.68</td>\n",
       "    </tr>\n",
       "    <tr>\n",
       "      <th>300</th>\n",
       "      <td>10.952</td>\n",
       "      <td>6.012</td>\n",
       "      <td>16.92</td>\n",
       "      <td>14.69</td>\n",
       "    </tr>\n",
       "    <tr>\n",
       "      <th>600</th>\n",
       "      <td>10.882</td>\n",
       "      <td>7.040</td>\n",
       "      <td>16.93</td>\n",
       "      <td>14.66</td>\n",
       "    </tr>\n",
       "    <tr>\n",
       "      <th>900</th>\n",
       "      <td>10.798</td>\n",
       "      <td>8.880</td>\n",
       "      <td>16.93</td>\n",
       "      <td>14.59</td>\n",
       "    </tr>\n",
       "    <tr>\n",
       "      <th>1200</th>\n",
       "      <td>10.756</td>\n",
       "      <td>10.491</td>\n",
       "      <td>16.94</td>\n",
       "      <td>14.50</td>\n",
       "    </tr>\n",
       "  </tbody>\n",
       "</table>\n",
       "</div>"
      ],
      "text/plain": [
       "        Q_in   Q_out  T_int  T_ext\n",
       "0     10.994   6.840  16.92  14.68\n",
       "300   10.952   6.012  16.92  14.69\n",
       "600   10.882   7.040  16.93  14.66\n",
       "900   10.798   8.880  16.93  14.59\n",
       "1200  10.756  10.491  16.94  14.50"
      ]
     },
     "execution_count": 39,
     "metadata": {},
     "output_type": "execute_result"
    }
   ],
   "source": [
    "ext_data.index = time_deltas.days * 86400 + time_deltas.seconds\n",
    "ext_data.head()"
   ]
  },
  {
   "cell_type": "markdown",
   "metadata": {},
   "source": [
    "Add units to each dataframe (Q_in, Q_out, T_int, T_ext)"
   ]
  },
  {
   "cell_type": "code",
   "execution_count": 40,
   "metadata": {},
   "outputs": [],
   "source": [
    "ext_data.Q_in.units = W / m**2\n",
    "ext_data.Q_out.units = W / m**2\n",
    "ext_data.T_int.units = degC\n",
    "ext_data.T_ext.units = degC;"
   ]
  },
  {
   "cell_type": "code",
   "execution_count": 41,
   "metadata": {},
   "outputs": [],
   "source": [
    "def make_system(init, R, d, SA, m, c):\n",
    "    \"\"\"Make a system object for the HIV model.\n",
    "    \n",
    "    start_temp: starting temp of room \n",
    "    gamma: recovery rate in days\n",
    "    \n",
    "    returns: System object\n",
    "    \"\"\"\n",
    "    \n",
    "\n",
    "    t0 = 0\n",
    "    t_end = 500\n",
    "    dt = 0.001\n",
    "\n",
    "    return System(init=init, t0=t0, t_end=t_end, dt=dt, R=R, d=d, SA=SA, m=m, c=c)"
   ]
  },
  {
   "cell_type": "code",
   "execution_count": 42,
   "metadata": {},
   "outputs": [
    {
     "data": {
      "text/html": [
       "<div>\n",
       "<style scoped>\n",
       "    .dataframe tbody tr th:only-of-type {\n",
       "        vertical-align: middle;\n",
       "    }\n",
       "\n",
       "    .dataframe tbody tr th {\n",
       "        vertical-align: top;\n",
       "    }\n",
       "\n",
       "    .dataframe thead th {\n",
       "        text-align: right;\n",
       "    }\n",
       "</style>\n",
       "<table border=\"1\" class=\"dataframe\">\n",
       "  <thead>\n",
       "    <tr style=\"text-align: right;\">\n",
       "      <th></th>\n",
       "      <th>values</th>\n",
       "    </tr>\n",
       "  </thead>\n",
       "  <tbody>\n",
       "    <tr>\n",
       "      <th>init</th>\n",
       "      <td>T_int    60.000\n",
       "T_ext    58.424\n",
       "dtype: float64</td>\n",
       "    </tr>\n",
       "    <tr>\n",
       "      <th>t0</th>\n",
       "      <td>0</td>\n",
       "    </tr>\n",
       "    <tr>\n",
       "      <th>t_end</th>\n",
       "      <td>500</td>\n",
       "    </tr>\n",
       "    <tr>\n",
       "      <th>dt</th>\n",
       "      <td>0.001</td>\n",
       "    </tr>\n",
       "    <tr>\n",
       "      <th>R</th>\n",
       "      <td>Empty DataFrame\n",
       "Columns: []\n",
       "Index: [5.0, 3.85,...</td>\n",
       "    </tr>\n",
       "    <tr>\n",
       "      <th>d</th>\n",
       "      <td>4</td>\n",
       "    </tr>\n",
       "    <tr>\n",
       "      <th>SA</th>\n",
       "      <td>2325</td>\n",
       "    </tr>\n",
       "    <tr>\n",
       "      <th>m</th>\n",
       "      <td>4656.96</td>\n",
       "    </tr>\n",
       "    <tr>\n",
       "      <th>c</th>\n",
       "      <td>0.171</td>\n",
       "    </tr>\n",
       "  </tbody>\n",
       "</table>\n",
       "</div>"
      ],
      "text/plain": [
       "init        T_int    60.000\n",
       "T_ext    58.424\n",
       "dtype: float64\n",
       "t0                                                       0\n",
       "t_end                                                  500\n",
       "dt                                                   0.001\n",
       "R        Empty DataFrame\n",
       "Columns: []\n",
       "Index: [5.0, 3.85,...\n",
       "d                                                        4\n",
       "SA                                                    2325\n",
       "m                                                  4656.96\n",
       "c                                                    0.171\n",
       "dtype: object"
      ]
     },
     "execution_count": 42,
     "metadata": {},
     "output_type": "execute_result"
    }
   ],
   "source": [
    "init = State(T_int=60, T_ext=get_first_value(ext_data.T_ext)*9/5+32)\n",
    "R = 3 #ft^2*deg5/btu/hr/in\n",
    "d = 4 #inches\n",
    "\n",
    "#room dimensions\n",
    "l = 6 #ft\n",
    "w = 6 #ft\n",
    "h = 6 #ft\n",
    "\n",
    "SA = (l * w * 4 + h * l * 2) * 10.7639 #ft^2\n",
    "V = l * w * h #m^3\n",
    "\n",
    "rho = 1 #density of air\n",
    "g = 9.8 #m/s^2, acceleration due to gravity\n",
    "m = (rho * V * g) * 2.2 #mass of air in room in lb\n",
    "\n",
    "c = 0.171 #btu/lbm*R\n",
    "\n",
    "system = make_system(init, R_data, d, SA, m, c)"
   ]
  },
  {
   "cell_type": "code",
   "execution_count": 43,
   "metadata": {},
   "outputs": [],
   "source": [
    "def run_simulation(system, update_func):\n",
    "    \"\"\"Runs a simulation of the system.\n",
    "        \n",
    "    system: System object\n",
    "    update_func: function that updates state\n",
    "    \n",
    "    returns: TimeFrame\n",
    "    \"\"\"\n",
    "    frame = TimeFrame(columns=system.init.index)\n",
    "    frame.row[system.t0] = system.init\n",
    "    \n",
    "    for t in linrange(system.t0, system.t_end,system.dt):\n",
    "        frame.row[t+system.dt] = update_func(frame.row[t], t, system)\n",
    "    \n",
    "    return frame"
   ]
  },
  {
   "cell_type": "code",
   "execution_count": 44,
   "metadata": {},
   "outputs": [],
   "source": [
    "def update_func(state, t, system):\n",
    "    \"\"\"Update the model.\n",
    "    \n",
    "    state: State with variables T_int, T_ext\n",
    "    dt: time step\n",
    "    system: System\n",
    "    \n",
    "    returns: State object\n",
    "    \"\"\"\n",
    "    \n",
    "    T_int, T_ext = state\n",
    "    \n",
    "    delta_T = T_int - T_ext\n",
    "    \n",
    "    dQ= (system.SA * delta_T / (system.R * system.d)) * system.dt\n",
    "   \n",
    "    if system.c==0:\n",
    "        system.c = dQ / delta_T\n",
    "    \n",
    "    \n",
    "    dT = dQ / (system.c * system.m) \n",
    "    \n",
    "    T_int = T_int - dT\n",
    "    \n",
    "    #print(dT)\n",
    "    \n",
    "    return State(T_int = T_int, T_ext = T_ext)"
   ]
  },
  {
   "cell_type": "code",
   "execution_count": null,
   "metadata": {},
   "outputs": [],
   "source": [
    "def sweep_R(R):\n",
    "    '''Sweep a range of values of R\n",
    "    R =  different R values correlated to specific insulations\n",
    "    returns SweepSeries'''\n",
    "    sweep = SweepSeries()\n",
    "    for r in R:\n",
    "        system = make_system(init, r, d, SA, m, c)\n",
    "        results = run_simulation(system, update_func)\n",
    "        sweep[system.r] = \n",
    "    \n",
    "    "
   ]
  },
  {
   "cell_type": "code",
   "execution_count": 49,
   "metadata": {},
   "outputs": [
    {
     "data": {
      "text/html": [
       "<div>\n",
       "<style scoped>\n",
       "    .dataframe tbody tr th:only-of-type {\n",
       "        vertical-align: middle;\n",
       "    }\n",
       "\n",
       "    .dataframe tbody tr th {\n",
       "        vertical-align: top;\n",
       "    }\n",
       "\n",
       "    .dataframe thead th {\n",
       "        text-align: right;\n",
       "    }\n",
       "</style>\n",
       "<table border=\"1\" class=\"dataframe\">\n",
       "  <thead>\n",
       "    <tr style=\"text-align: right;\">\n",
       "      <th></th>\n",
       "      <th>values</th>\n",
       "    </tr>\n",
       "  </thead>\n",
       "  <tbody>\n",
       "    <tr>\n",
       "      <th>T_int</th>\n",
       "      <td>Empty DataFrame\n",
       "Columns: []\n",
       "Index: [5.0, 3.85,...</td>\n",
       "    </tr>\n",
       "    <tr>\n",
       "      <th>T_ext</th>\n",
       "      <td>58.424</td>\n",
       "    </tr>\n",
       "  </tbody>\n",
       "</table>\n",
       "</div>"
      ],
      "text/plain": [
       "T_int    Empty DataFrame\n",
       "Columns: []\n",
       "Index: [5.0, 3.85,...\n",
       "T_ext                                               58.424\n",
       "dtype: object"
      ]
     },
     "execution_count": 49,
     "metadata": {},
     "output_type": "execute_result"
    }
   ],
   "source": [
    "update_func(system.init, system.t0, system)"
   ]
  },
  {
   "cell_type": "code",
   "execution_count": 47,
   "metadata": {},
   "outputs": [],
   "source": [
    "#results = run_simulation(system,update_func)"
   ]
  },
  {
   "cell_type": "code",
   "execution_count": null,
   "metadata": {},
   "outputs": [],
   "source": [
    "plot(results.T_int)"
   ]
  },
  {
   "cell_type": "code",
   "execution_count": null,
   "metadata": {},
   "outputs": [],
   "source": []
  },
  {
   "cell_type": "code",
   "execution_count": null,
   "metadata": {},
   "outputs": [],
   "source": []
  },
  {
   "cell_type": "code",
   "execution_count": null,
   "metadata": {},
   "outputs": [],
   "source": []
  }
 ],
 "metadata": {
  "kernelspec": {
   "display_name": "Python 3",
   "language": "python",
   "name": "python3"
  },
  "language_info": {
   "codemirror_mode": {
    "name": "ipython",
    "version": 3
   },
   "file_extension": ".py",
   "mimetype": "text/x-python",
   "name": "python",
   "nbconvert_exporter": "python",
   "pygments_lexer": "ipython3",
   "version": "3.6.5"
  }
 },
 "nbformat": 4,
 "nbformat_minor": 2
}
